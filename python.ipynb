{
  "nbformat": 4,
  "nbformat_minor": 0,
  "metadata": {
    "colab": {
      "provenance": [],
      "authorship_tag": "ABX9TyOPHS1opfSwxxkbt8ii170h",
      "include_colab_link": true
    },
    "kernelspec": {
      "name": "python3",
      "display_name": "Python 3"
    },
    "language_info": {
      "name": "python"
    }
  },
  "cells": [
    {
      "cell_type": "markdown",
      "metadata": {
        "id": "view-in-github",
        "colab_type": "text"
      },
      "source": [
        "<a href=\"https://colab.research.google.com/github/Peron152/python/blob/main/python.ipynb\" target=\"_parent\"><img src=\"https://colab.research.google.com/assets/colab-badge.svg\" alt=\"Open In Colab\"/></a>"
      ]
    },
    {
      "cell_type": "markdown",
      "source": [
        "#**Aula 1** ⛽ ♈ ♒"
      ],
      "metadata": {
        "id": "esTz5FF_zdaC"
      }
    },
    {
      "cell_type": "code",
      "execution_count": null,
      "metadata": {
        "colab": {
          "base_uri": "https://localhost:8080/"
        },
        "id": "C3wwrPyhzGsv",
        "outputId": "ce16a74e-f400-47b3-b664-ae5c6d1231b9"
      },
      "outputs": [
        {
          "output_type": "stream",
          "name": "stdout",
          "text": [
            "IV  competição de programação dá Start\n"
          ]
        }
      ],
      "source": [
        "ano = \"IV\"\n",
        "print ( ano, \" competição de programação dá Start\")"
      ]
    },
    {
      "cell_type": "markdown",
      "source": [
        "#**Aula 2** ⛅ ⛴ ⛈"
      ],
      "metadata": {
        "id": "wR5mEVM72M6o"
      }
    },
    {
      "cell_type": "code",
      "source": [
        "livro_ficcao = 8\n",
        "livro_n_ficcao = 10\n",
        "livro_infantil = 6\n",
        "pontos_rodrigo = livro_ficcao + livro_n_ficcao + livro_infantil\n",
        "pontos_ana = 2 * livro_ficcao + 5 * livro_infantil\n",
        "pontos_totais = pontos_rodrigo + pontos_ana\n",
        "print(f\"Os pontos totais do Rodrigo são {pontos_rodrigo}\")\n",
        "print(f\"Os pontos totais de ana são {pontos_ana}\")\n",
        "print(f\"Os pontos totais de ana e rodrigo são {pontos_totais}\")\n"
      ],
      "metadata": {
        "colab": {
          "base_uri": "https://localhost:8080/"
        },
        "id": "YilO6Edy2T6n",
        "outputId": "e1684527-5e0a-423c-81d1-a27fd9095ee4"
      },
      "execution_count": null,
      "outputs": [
        {
          "output_type": "stream",
          "name": "stdout",
          "text": [
            "Os pontos totais do Rodrigo são 24\n",
            "Os pontos totais de ana são 46\n",
            "Os pontos totais de ana e rodrigo são 70\n"
          ]
        }
      ]
    },
    {
      "cell_type": "markdown",
      "source": [
        "#**Aula 3**  ⛳ ⛲ ♥"
      ],
      "metadata": {
        "id": "aVF3SXIv6rGa"
      }
    },
    {
      "cell_type": "code",
      "source": [
        "total_de_figurinhas = int(input(\"Digite o total de figurinhas: \"))\n",
        "numero_de_amigos = int(input(\"Digite o número de amigos: \"))\n",
        "figurinhas_amigo = total_de_figurinhas // (numero_de_amigos + 2)\n",
        "figurinhas_joao = 2 * figurinhas_amigo\n",
        "figurinhas_extras = int(input(\"Digite o número de figurinhas extras: \"))\n",
        "figurinhas_extras = figurinhas_extras // (numero_de_amigos + 2)\n",
        "figurinhas_joao2 = figurinhas_extras * 2\n",
        "\n",
        "print(f\"João recebeu {figurinhas_joao} figurinhas\")\n",
        "print(f\"João recebeu {figurinhas_joao2} figurinhas extras\")"
      ],
      "metadata": {
        "colab": {
          "base_uri": "https://localhost:8080/"
        },
        "id": "vU5fZfAk6uh-",
        "outputId": "bc7a5ebc-b45f-452a-e00e-2326eab2f6a8"
      },
      "execution_count": null,
      "outputs": [
        {
          "output_type": "stream",
          "name": "stdout",
          "text": [
            "Digite o total de figurinhas: 30\n",
            "Digite o número de amigos: 6\n",
            "Digite o número de figurinhas extras: 15\n",
            "João recebeu 6 figurinhas\n",
            "João recebeu 2 figurinhas extras\n"
          ]
        }
      ]
    },
    {
      "cell_type": "markdown",
      "source": [
        "# **Aula 4** ⏰ ⛹ ⛪\n",
        "\n",
        "##dia de prova"
      ],
      "metadata": {
        "id": "x2yGcNeW3om7"
      }
    },
    {
      "cell_type": "code",
      "source": [
        "P = int(input(\"Digite a posição da porta P (0 ou 1): \"))\n",
        "R = int(input(\"Digite a posição da porta R (0 ou 1): \"))\n",
        "if P == 0:\n",
        "    print(\"C\")\n",
        "elif R == 1:\n",
        "    print(\"A\")\n",
        "else:\n",
        "    print(\"B\")\n"
      ],
      "metadata": {
        "colab": {
          "base_uri": "https://localhost:8080/"
        },
        "id": "3hIPYhgs7i6K",
        "outputId": "8691980c-b077-490d-e48b-99b031c8d8af"
      },
      "execution_count": null,
      "outputs": [
        {
          "output_type": "stream",
          "name": "stdout",
          "text": [
            "Digite a posição da porta P (0 ou 1): 0\n",
            "Digite a posição da porta R (0 ou 1): 1\n",
            "C\n"
          ]
        }
      ]
    },
    {
      "cell_type": "markdown",
      "source": [
        "#**Aula 5** - Cálculo de IMC ⛸ ❄ ⛴"
      ],
      "metadata": {
        "id": "SdqpQK-u7ZOq"
      }
    },
    {
      "cell_type": "code",
      "source": [
        "peso = float(input(\"Digite seu peso (em kg): \"))\n",
        "altura = float(input(\"Digite sua altura (em metros): \"))\n",
        "imc = peso / (altura ** 2)\n",
        "print(f\"\\nSeu IMC é: {imc:.2f}\")\n",
        "if imc < 18.5:\n",
        "    print(\"Você está abaixo do peso.\")\n",
        "elif 18.5 <= imc < 25:\n",
        "    print(\"Você está no peso ideal.\")\n",
        "elif 25 <= imc < 30:\n",
        "    print(\"Você está com sobrepeso.\")\n",
        "else:\n",
        "    print(\"Você está acima do peso.\")\n"
      ],
      "metadata": {
        "id": "lSVQIXAC7p-7"
      },
      "execution_count": null,
      "outputs": []
    },
    {
      "cell_type": "markdown",
      "source": [
        "#***Aula 6 tabuada*** ⛵ ⛷ ⛺"
      ],
      "metadata": {
        "id": "Fg_oJtMt_ZYy"
      }
    },
    {
      "cell_type": "code",
      "source": [
        "def tabuada(numero):\n",
        "    for contador in range(1, 11):  # Gera números de 1 a 10\n",
        "        print(f\"{numero} x {contador} = {numero * contador}\")\n",
        "numero = int(input(\"Digite um número para ver sua tabuada: \"))\n",
        "tabuada(numero)"
      ],
      "metadata": {
        "id": "U85qDKMI_v5L",
        "colab": {
          "base_uri": "https://localhost:8080/"
        },
        "outputId": "621ac942-081d-4d9b-8302-a611a5940020"
      },
      "execution_count": 1,
      "outputs": [
        {
          "output_type": "stream",
          "name": "stdout",
          "text": [
            "Digite um número para ver sua tabuada: 5\n",
            "5 x 1 = 5\n",
            "5 x 2 = 10\n",
            "5 x 3 = 15\n",
            "5 x 4 = 20\n",
            "5 x 5 = 25\n",
            "5 x 6 = 30\n",
            "5 x 7 = 35\n",
            "5 x 8 = 40\n",
            "5 x 9 = 45\n",
            "5 x 10 = 50\n"
          ]
        }
      ]
    },
    {
      "cell_type": "markdown",
      "source": [
        "#**Aula 7 idade** ⚽ 🎱 👽"
      ],
      "metadata": {
        "id": "3OZhT1YiCokD"
      }
    },
    {
      "cell_type": "code",
      "source": [
        "def calcula_idade_maior(idade_monica, idade_filho1, idade_filho2):\n",
        "  idade_filho3 = idade_monica - idade_filho1 - idade_filho2\n",
        "  idade_maxima = max(idade_filho1, idade_filho2, idade_filho3)\n",
        "  return idade_filho3, idade_maxima\n",
        "resultado = calcula_idade_maior(68, 12, 30)\n",
        "print(resultado)\n"
      ],
      "metadata": {
        "id": "lBq0ftZNECk9",
        "outputId": "17b10315-00da-403b-f374-721366c1c41c",
        "colab": {
          "base_uri": "https://localhost:8080/"
        }
      },
      "execution_count": 3,
      "outputs": [
        {
          "output_type": "stream",
          "name": "stdout",
          "text": [
            "(26, 30)\n"
          ]
        }
      ]
    }
  ]
}